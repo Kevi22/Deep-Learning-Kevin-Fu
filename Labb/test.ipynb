{
 "cells": [
  {
   "cell_type": "code",
   "execution_count": 1,
   "metadata": {},
   "outputs": [
    {
     "name": "stderr",
     "output_type": "stream",
     "text": [
      "<>:10: SyntaxWarning: invalid escape sequence '\\L'\n",
      "<>:10: SyntaxWarning: invalid escape sequence '\\L'\n",
      "C:\\Users\\Kevin\\AppData\\Local\\Temp\\ipykernel_4484\\2319498403.py:10: SyntaxWarning: invalid escape sequence '\\L'\n",
      "  model_file = \"..\\Labb\\models\\model.keras\"\n"
     ]
    },
    {
     "ename": "",
     "evalue": "",
     "output_type": "error",
     "traceback": [
      "\u001b[1;31mThe Kernel crashed while executing code in the current cell or a previous cell. \n",
      "\u001b[1;31mPlease review the code in the cell(s) to identify a possible cause of the failure. \n",
      "\u001b[1;31mClick <a href='https://aka.ms/vscodeJupyterKernelCrash'>here</a> for more info. \n",
      "\u001b[1;31mView Jupyter <a href='command:jupyter.viewOutput'>log</a> for further details."
     ]
    }
   ],
   "source": [
    "import keras\n",
    "import gymnasium as gym\n",
    "import ale_py\n",
    "import tensorflow as tf\n",
    "from gymnasium.wrappers.frame_stack import FrameStack\n",
    "from gymnasium.wrappers.atari_preprocessing import AtariPreprocessing\n",
    "\n",
    "gym.register_envs(ale_py)\n",
    "\n",
    "model_file = \"..\\Labb\\models\\model.keras\"\n",
    "agent = keras.models.load_model(model_file)\n",
    "\n",
    "env = gym.make(\"SpaceInvadersNoFrameskip-v4\", render_mode=\"human\")\n",
    "env = AtariPreprocessing(env)\n",
    "env = FrameStack(env, 4)\n",
    "\n",
    "state, _ = env.reset()\n",
    "done = False\n",
    "\n",
    "\n",
    "while not done:\n",
    "    \n",
    "    state_tensor = tf.convert_to_tensor(state, dtype=tf.float32)\n",
    "    state_tensor = tf.transpose(state_tensor, [1, 2, 0])\n",
    "    state_tensor = tf.expand_dims(state_tensor, 0)\n",
    "    action_probs = agent(state_tensor, training=False)\n",
    "    action = tf.argmax(action_probs[0]).numpy()\n",
    "    state, reward, done, _, _ = env.step(action)\n"
   ]
  }
 ],
 "metadata": {
  "kernelspec": {
   "display_name": ".venv",
   "language": "python",
   "name": "python3"
  },
  "language_info": {
   "codemirror_mode": {
    "name": "ipython",
    "version": 3
   },
   "file_extension": ".py",
   "mimetype": "text/x-python",
   "name": "python",
   "nbconvert_exporter": "python",
   "pygments_lexer": "ipython3",
   "version": "3.12.5"
  }
 },
 "nbformat": 4,
 "nbformat_minor": 2
}
