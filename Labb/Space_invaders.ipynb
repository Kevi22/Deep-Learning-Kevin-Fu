{
 "cells": [
  {
   "cell_type": "markdown",
   "metadata": {},
   "source": [
    "### This code uses Python 3.12.5, and all libraries used are listed in \"requirments.txt\"\n",
    "The gymnasium library requires downgrading to v029.1 for the code to work.  \n",
    "```bash\n",
    "pip install -r requirements.txt\n",
    "\n"
   ]
  },
  {
   "cell_type": "code",
   "execution_count": 1,
   "metadata": {},
   "outputs": [],
   "source": [
    "import tensorflow as tf\n",
    "import keras\n",
    "from keras import layers\n",
    "import gymnasium as gym\n",
    "import ale_py\n",
    "from gymnasium.wrappers.atari_preprocessing import AtariPreprocessing\n",
    "from gymnasium.wrappers.frame_stack import FrameStack\n",
    "import numpy as np"
   ]
  },
  {
   "cell_type": "markdown",
   "metadata": {},
   "source": [
    "#### Enviroment setup to use atari games within gymnasium library "
   ]
  },
  {
   "cell_type": "code",
   "execution_count": 2,
   "metadata": {},
   "outputs": [
    {
     "name": "stderr",
     "output_type": "stream",
     "text": [
      "c:\\Users\\Kevin\\Documents\\github\\Deep-Learning-Kevin-Fu\\.venv\\Lib\\site-packages\\gymnasium\\wrappers\\record_video.py:94: UserWarning: \u001b[33mWARN: Overwriting existing videos at c:\\Users\\Kevin\\Documents\\github\\Deep-Learning-Kevin-Fu\\Labb\\videos folder (try specifying a different `video_folder` for the `RecordVideo` wrapper if this is not desired)\u001b[0m\n",
      "  logger.warn(\n"
     ]
    }
   ],
   "source": [
    "gym.register_envs(ale_py)\n",
    "\n",
    "env = gym.make(\"SpaceInvadersNoFrameskip-v4\", render_mode=\"rgb_array\")\n",
    "env = AtariPreprocessing(env)  \n",
    "env = FrameStack(env, 4)  \n",
    "trigger = lambda t: t % 1000 == 0 # save every 1000 episode\n",
    "env = gym.wrappers.RecordVideo(env, video_folder=\"videos\", episode_trigger=trigger, disable_logger=True)\n",
    "num_actions = env.action_space\n"
   ]
  },
  {
   "cell_type": "markdown",
   "metadata": {},
   "source": [
    "#### Create DQN model"
   ]
  },
  {
   "cell_type": "code",
   "execution_count": null,
   "metadata": {},
   "outputs": [],
   "source": [
    "def create_q_model():\n",
    "    \n",
    "    return keras.Sequential([\n",
    "\n",
    "        keras.Input(shape=(84, 84, 4)),\n",
    "        layers.Conv2D(32, kernel_size=8, strides=4, activation=\"relu\"),\n",
    "        layers.Conv2D(64, kernel_size=4, strides=2, activation=\"relu\"),\n",
    "        layers.Conv2D(64, kernel_size=3, strides=1, activation=\"relu\"),\n",
    "        layers.Flatten(),\n",
    "        layers.Dense(512, activation=\"relu\"),\n",
    "        layers.Dense(num_actions, activation=\"linear\")\n",
    "    ])\n",
    "\n",
    "model = create_q_model()\n",
    "model_target = create_q_model()\n",
    "\n",
    "optimizer = keras.optimizers.Adam(learning_rate=0.00025, clipnorm=1.0)"
   ]
  },
  {
   "cell_type": "markdown",
   "metadata": {},
   "source": [
    "#### Hyperparmeters and history setup"
   ]
  },
  {
   "cell_type": "code",
   "execution_count": null,
   "metadata": {},
   "outputs": [],
   "source": [
    "# Hyperparameters for training\n",
    "gamma = 0.99  \n",
    "epsilon = 1.0  \n",
    "epsilon_min = 0.1  \n",
    "epsilon_max = 1.0  \n",
    "epsilon_interval = epsilon_max - epsilon_min\n",
    "batch_size = 32  \n",
    "\n",
    "# Training parameters\n",
    "max_episodes = 0  \n",
    "max_frames = 1e7  \n",
    "epsilon_random_frames = 50000  \n",
    "epsilon_greedy_frames = 1e6 \n",
    "max_memory_length = 1e5  \n",
    "max_steps_per_episode = 10000 \n",
    "update_after_actions = 4  \n",
    "update_target_network = 10000  \n",
    "\n",
    "# Loss function for more stable training\n",
    "loss_function = keras.losses.Huber()\n",
    "\n",
    "# History tracking\n",
    "action_history = []\n",
    "state_history = []\n",
    "state_next_history = []\n",
    "rewards_history = []\n",
    "episode_reward_history = []\n",
    "done_history = []\n",
    "\n",
    "running_reward = 0\n",
    "episode_count = 0\n",
    "frame_count = 0"
   ]
  },
  {
   "cell_type": "markdown",
   "metadata": {},
   "source": [
    "#### Training \n",
    "\n",
    "Result:\n",
    "\n",
    "I trained the model for about 40 hours. Initially, performance improved significantly up to around 1000 frames, but after about 2000 frames, progress stagnated and slightly worsened. I saved the model at frame 1060, which corresponded to the best score achieved. Despite adjusting hyperparameters for efficiency, I couldn't reach my target running reward of 800. The best running reward I achieved was 500, which was based on the best score at frame 1060. The running reward averaged around 390 before I stopped the training.\n",
    "\n",
    "\n"
   ]
  },
  {
   "cell_type": "code",
   "execution_count": null,
   "metadata": {},
   "outputs": [],
   "source": [
    "# Training\n",
    "while True:\n",
    "    observation, _ = env.reset()\n",
    "    state = np.array(observation)\n",
    "    episode_reward = 0\n",
    "\n",
    "    for timestep in range(1, max_steps_per_episode):\n",
    "        frame_count += 1\n",
    "\n",
    "        # Epsilon-greedy action selection\n",
    "        if frame_count < epsilon_random_frames or epsilon > np.random.rand(1)[0]:\n",
    "            action = env.action_space.sample()\n",
    "        else:\n",
    "            # Preprocess state for model prediction\n",
    "            state_tensor = tf.convert_to_tensor(state, dtype=tf.float32)  \n",
    "            state_tensor = tf.transpose(state_tensor, [1, 2, 0]) \n",
    "            state_tensor = tf.expand_dims(state_tensor, 0) \n",
    "            \n",
    "            action_probs = model(state_tensor, training=False)\n",
    "            action = tf.argmax(action_probs[0]).numpy()\n",
    "\n",
    "        epsilon -= epsilon_interval / epsilon_greedy_frames\n",
    "        epsilon = max(epsilon, epsilon_min)\n",
    "\n",
    "        state_next, reward, done, _, _ = env.step(action)\n",
    "        state_next = np.array(state_next)\n",
    "\n",
    "        episode_reward += reward\n",
    "\n",
    "        action_history.append(action)\n",
    "        state_history.append(state)\n",
    "        state_next_history.append(state_next)\n",
    "        done_history.append(done)\n",
    "        rewards_history.append(reward)\n",
    "        state = state_next\n",
    "\n",
    "        if frame_count % update_after_actions == 0 and len(done_history) > batch_size:\n",
    "        \n",
    "            indices = np.random.choice(range(len(done_history)), size=batch_size)\n",
    "\n",
    "            state_sample = np.array([state_history[i] for i in indices])\n",
    "            state_next_sample = np.array([state_next_history[i] for i in indices])\n",
    "            rewards_sample = [rewards_history[i] for i in indices]\n",
    "            action_sample = [action_history[i] for i in indices]\n",
    "            \n",
    "            done_sample = tf.convert_to_tensor([float(done_history[i]) for i in indices], dtype=tf.float32)\n",
    "\n",
    "            state_next_sample_reshaped = np.transpose(state_next_sample, (0, 2, 3, 1))\n",
    "            future_rewards = model_target.predict(state_next_sample_reshaped, verbose=0)\n",
    "\n",
    "            # Calculate updated Q-values using Bellman equation\n",
    "            updated_q_values = rewards_sample + gamma * tf.reduce_max(future_rewards, axis=1)\n",
    "            updated_q_values = updated_q_values * (1 - done_sample) - done_sample\n",
    "\n",
    "            masks = tf.one_hot(action_sample, num_actions)\n",
    "\n",
    "            with tf.GradientTape() as tape:\n",
    "                state_sample_reshaped = np.transpose(state_sample, (0, 2, 3, 1))\n",
    "                q_values = model(state_sample_reshaped)\n",
    "\n",
    "                q_action = tf.reduce_sum(tf.multiply(q_values, masks), axis=1)\n",
    "\n",
    "                loss = loss_function(updated_q_values, q_action)\n",
    "\n",
    "            grads = tape.gradient(loss, model.trainable_variables)\n",
    "            optimizer.apply_gradients(zip(grads, model.trainable_variables))\n",
    "\n",
    "        if frame_count % update_target_network == 0:\n",
    "            model_target.set_weights(model.get_weights())\n",
    "            print(f\"Best score of last 100: {np.max(episode_reward_history) if episode_reward_history else 0}, \"\n",
    "                  f\"running_reward: {running_reward} at episode {episode_count}, frame {frame_count}\")\n",
    "            model.save(f\"models/spaceinvaders_qmodel_{episode_count}.keras\")\n",
    "\n",
    "        if len(rewards_history) > max_memory_length:\n",
    "            del rewards_history[:1]\n",
    "            del state_history[:1]\n",
    "            del state_next_history[:1]\n",
    "            del action_history[:1]\n",
    "            del done_history[:1]\n",
    "\n",
    "        if done:\n",
    "            break\n",
    "\n",
    "    # Track episode rewards\n",
    "    episode_reward_history.append(episode_reward)\n",
    "    if len(episode_reward_history) > 1000:\n",
    "        del episode_reward_history[:1]\n",
    "    running_reward = np.mean(episode_reward_history)\n",
    "\n",
    "    episode_count += 1\n",
    "    print(episode_count - 1, episode_reward)\n",
    "\n",
    "    if running_reward > 800: \n",
    "        print(f\"Solved at episode {episode_count}!\")\n",
    "        model.save(f\"models/spaceinvaders_qmodel_solved.keras\")\n",
    "        break\n",
    "\n",
    "    if (max_episodes > 0 and episode_count >= max_episodes):\n",
    "        print(f\"Stopped at episode {episode_count}!\")\n",
    "        break\n",
    "\n",
    "    if (max_frames > 0 and frame_count >= max_frames):\n",
    "        print(f\"Stopped at frame {frame_count}!\")\n",
    "        break"
   ]
  }
 ],
 "metadata": {
  "kernelspec": {
   "display_name": ".venv",
   "language": "python",
   "name": "python3"
  },
  "language_info": {
   "codemirror_mode": {
    "name": "ipython",
    "version": 3
   },
   "file_extension": ".py",
   "mimetype": "text/x-python",
   "name": "python",
   "nbconvert_exporter": "python",
   "pygments_lexer": "ipython3",
   "version": "3.12.5"
  }
 },
 "nbformat": 4,
 "nbformat_minor": 2
}
